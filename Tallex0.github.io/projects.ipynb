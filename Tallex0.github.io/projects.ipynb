{
  "cells": [
    {
      "cell_type": "raw",
      "metadata": {},
      "source": [
        "---\n",
        "title: \"Projects\"\n",
        "listing:\n",
        "  contents: portfolio_files\n",
        "---"
      ],
      "id": "f7810ec5"
    },
    {
      "cell_type": "markdown",
      "metadata": {},
      "source": [
        "A few of my R projects are showcased below. In the first, I worked with a dataset on Blackfoot Fish to practice writing my own user-defined functions in R. In the second, I worked with another dataset to work on formatting tables and linear models in R. \n",
        "\n",
        "##########\n",
        "\n",
        "<div class='tableauPlaceholder' id='viz1689799893167' style='position: relative'><noscript><a href='#'><img alt='Dashboard 1 ' src='https:&#47;&#47;public.tableau.com&#47;static&#47;images&#47;Da&#47;Dashboard_16858448451090&#47;Dashboard1&#47;1_rss.png' style='border: none' /></a></noscript><object class='tableauViz'  style='display:none;'><param name='host_url' value='https%3A%2F%2Fpublic.tableau.com%2F' /> <param name='embed_code_version' value='3' /> <param name='site_root' value='' /><param name='name' value='Dashboard_16858448451090&#47;Dashboard1' /><param name='tabs' value='no' /><param name='toolbar' value='yes' /><param name='static_image' value='https:&#47;&#47;public.tableau.com&#47;static&#47;images&#47;Da&#47;Dashboard_16858448451090&#47;Dashboard1&#47;1.png' /> <param name='animate_transition' value='yes' /><param name='display_static_image' value='yes' /><param name='display_spinner' value='yes' /><param name='display_overlay' value='yes' /><param name='display_count' value='yes' /><param name='language' value='en-US' /><param name='filter' value='publish=yes' /></object></div>\n",
        "\n",
        "\n",
        "\n",
        "\n",
        "\n",
        "\n",
        "\n",
        "\n",
        "```{js, embedcode}\n",
        "var divElement = document.getElementById('viz1689799893167');                    \n",
        "var vizElement = divElement.getElementsByTagName('object')[0];                    \n",
        "if ( divElement.offsetWidth > 800 ) { vizElement.style.width='1000px';vizElement.style.height='827px';} else if ( divElement.offsetWidth > 500 ) { vizElement.style.width='1000px';vizElement.style.height='827px';} else { vizElement.style.width='100%';vizElement.style.height='1027px';}                     var scriptElement = document.createElement('script');                    scriptElement.src = 'https://public.tableau.com/javascripts/api/viz_v1.js';                    vizElement.parentNode.insertBefore(scriptElement, vizElement);\n",
        "```\n",
        "\n",
        "\n",
        "##########\n"
      ],
      "id": "05b83f4e"
    }
  ],
  "metadata": {
    "kernelspec": {
      "display_name": "Python 3",
      "language": "python",
      "name": "python3"
    }
  },
  "nbformat": 4,
  "nbformat_minor": 5
}